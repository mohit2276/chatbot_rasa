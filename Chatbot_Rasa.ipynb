{
  "nbformat": 4,
  "nbformat_minor": 0,
  "metadata": {
    "colab": {
      "name": "Chatbot_Rasa.ipynb",
      "provenance": [],
      "collapsed_sections": []
    },
    "kernelspec": {
      "name": "python3",
      "display_name": "Python 3"
    },
    "language_info": {
      "name": "python"
    }
  },
  "cells": [
    {
      "cell_type": "code",
      "execution_count": 1,
      "metadata": {
        "colab": {
          "base_uri": "https://localhost:8080/"
        },
        "id": "uRi3uJcXNY8L",
        "outputId": "14e25892-db1b-499e-f46e-e37c4b649475"
      },
      "outputs": [
        {
          "output_type": "stream",
          "name": "stdout",
          "text": [
            "Looking in indexes: https://pypi.org/simple, https://us-python.pkg.dev/colab-wheels/public/simple/\n",
            "Requirement already satisfied: tables==3.6.1 in /usr/local/lib/python3.7/dist-packages (3.6.1)\n",
            "Requirement already satisfied: numpy>=1.9.3 in /usr/local/lib/python3.7/dist-packages (from tables==3.6.1) (1.18.5)\n",
            "Requirement already satisfied: numexpr>=2.6.2 in /usr/local/lib/python3.7/dist-packages (from tables==3.6.1) (2.8.1)\n",
            "Requirement already satisfied: packaging in /usr/local/lib/python3.7/dist-packages (from numexpr>=2.6.2->tables==3.6.1) (20.9)\n",
            "Requirement already satisfied: pyparsing>=2.0.2 in /usr/local/lib/python3.7/dist-packages (from packaging->numexpr>=2.6.2->tables==3.6.1) (3.0.9)\n"
          ]
        }
      ],
      "source": [
        "!pip install -U tables==3.6.1\n"
      ]
    },
    {
      "cell_type": "code",
      "source": [
        "!pip install -U ipython"
      ],
      "metadata": {
        "colab": {
          "base_uri": "https://localhost:8080/"
        },
        "id": "Qle8eIehNjFa",
        "outputId": "4ae2b968-7994-40fc-a249-9a2680b79981"
      },
      "execution_count": 2,
      "outputs": [
        {
          "output_type": "stream",
          "name": "stdout",
          "text": [
            "Looking in indexes: https://pypi.org/simple, https://us-python.pkg.dev/colab-wheels/public/simple/\n",
            "Requirement already satisfied: ipython in /usr/local/lib/python3.7/dist-packages (7.34.0)\n",
            "Requirement already satisfied: decorator in /usr/local/lib/python3.7/dist-packages (from ipython) (4.4.2)\n",
            "Requirement already satisfied: backcall in /usr/local/lib/python3.7/dist-packages (from ipython) (0.2.0)\n",
            "Requirement already satisfied: traitlets>=4.2 in /usr/local/lib/python3.7/dist-packages (from ipython) (5.1.1)\n",
            "Requirement already satisfied: setuptools>=18.5 in /usr/local/lib/python3.7/dist-packages (from ipython) (57.4.0)\n",
            "Requirement already satisfied: pickleshare in /usr/local/lib/python3.7/dist-packages (from ipython) (0.7.5)\n",
            "Requirement already satisfied: matplotlib-inline in /usr/local/lib/python3.7/dist-packages (from ipython) (0.1.3)\n",
            "Requirement already satisfied: jedi>=0.16 in /usr/local/lib/python3.7/dist-packages (from ipython) (0.18.1)\n",
            "Requirement already satisfied: prompt-toolkit!=3.0.0,!=3.0.1,<3.1.0,>=2.0.0 in /usr/local/lib/python3.7/dist-packages (from ipython) (2.0.10)\n",
            "Requirement already satisfied: pexpect>4.3 in /usr/local/lib/python3.7/dist-packages (from ipython) (4.8.0)\n",
            "Requirement already satisfied: pygments in /usr/local/lib/python3.7/dist-packages (from ipython) (2.6.1)\n",
            "Requirement already satisfied: parso<0.9.0,>=0.8.0 in /usr/local/lib/python3.7/dist-packages (from jedi>=0.16->ipython) (0.8.3)\n",
            "Requirement already satisfied: ptyprocess>=0.5 in /usr/local/lib/python3.7/dist-packages (from pexpect>4.3->ipython) (0.7.0)\n",
            "Requirement already satisfied: wcwidth in /usr/local/lib/python3.7/dist-packages (from prompt-toolkit!=3.0.0,!=3.0.1,<3.1.0,>=2.0.0->ipython) (0.2.5)\n",
            "Requirement already satisfied: six>=1.9.0 in /usr/local/lib/python3.7/dist-packages (from prompt-toolkit!=3.0.0,!=3.0.1,<3.1.0,>=2.0.0->ipython) (1.15.0)\n"
          ]
        }
      ]
    },
    {
      "cell_type": "code",
      "source": [
        "!pip3 install rasa==1.10.3"
      ],
      "metadata": {
        "colab": {
          "base_uri": "https://localhost:8080/"
        },
        "id": "OT-ZsKZpNob6",
        "outputId": "79eb103f-9833-48ea-d903-84ff39d37786"
      },
      "execution_count": 3,
      "outputs": [
        {
          "output_type": "stream",
          "name": "stdout",
          "text": [
            "Looking in indexes: https://pypi.org/simple, https://us-python.pkg.dev/colab-wheels/public/simple/\n",
            "Requirement already satisfied: rasa==1.10.3 in /usr/local/lib/python3.7/dist-packages (1.10.3)\n",
            "Requirement already satisfied: psycopg2-binary<2.9.0,>=2.8.2 in /usr/local/lib/python3.7/dist-packages (from rasa==1.10.3) (2.8.6)\n",
            "Requirement already satisfied: sanic<20.0.0,>=19.12.2 in /usr/local/lib/python3.7/dist-packages (from rasa==1.10.3) (19.12.2)\n",
            "Requirement already satisfied: rasa-sdk<2.0.0,>=1.10.0 in /usr/local/lib/python3.7/dist-packages (from rasa==1.10.3) (1.10.3)\n",
            "Requirement already satisfied: python-telegram-bot<13.0,>=11.1 in /usr/local/lib/python3.7/dist-packages (from rasa==1.10.3) (12.8)\n",
            "Requirement already satisfied: tensorflow<2.2,>=2.1 in /usr/local/lib/python3.7/dist-packages (from rasa==1.10.3) (2.1.4)\n",
            "Requirement already satisfied: tqdm<4.46,>=4.31 in /usr/local/lib/python3.7/dist-packages (from rasa==1.10.3) (4.45.0)\n",
            "Requirement already satisfied: pykwalify<1.8.0,>=1.7.0 in /usr/local/lib/python3.7/dist-packages (from rasa==1.10.3) (1.7.0)\n",
            "Requirement already satisfied: sanic-jwt<1.5.0,>=1.3.2 in /usr/local/lib/python3.7/dist-packages (from rasa==1.10.3) (1.4.1)\n",
            "Requirement already satisfied: SQLAlchemy<1.4.0,>=1.3.3 in /usr/local/lib/python3.7/dist-packages (from rasa==1.10.3) (1.3.24)\n",
            "Requirement already satisfied: kafka-python<2.0,>=1.4 in /usr/local/lib/python3.7/dist-packages (from rasa==1.10.3) (1.4.7)\n",
            "Requirement already satisfied: pydot<1.5,>=1.4 in /usr/local/lib/python3.7/dist-packages (from rasa==1.10.3) (1.4.2)\n",
            "Requirement already satisfied: gevent<1.6,>=1.4 in /usr/local/lib/python3.7/dist-packages (from rasa==1.10.3) (1.5.0)\n",
            "Requirement already satisfied: multidict<5.0,>=4.6 in /usr/local/lib/python3.7/dist-packages (from rasa==1.10.3) (4.7.6)\n",
            "Requirement already satisfied: fbmessenger<6.1.0,>=6.0.0 in /usr/local/lib/python3.7/dist-packages (from rasa==1.10.3) (6.0.0)\n",
            "Requirement already satisfied: coloredlogs<11.0,>=10.0 in /usr/local/lib/python3.7/dist-packages (from rasa==1.10.3) (10.0)\n",
            "Requirement already satisfied: networkx<2.5.0,>=2.4.0 in /usr/local/lib/python3.7/dist-packages (from rasa==1.10.3) (2.4)\n",
            "Requirement already satisfied: pika<1.2.0,>=1.1.0 in /usr/local/lib/python3.7/dist-packages (from rasa==1.10.3) (1.1.0)\n",
            "Requirement already satisfied: requests<3.0,>=2.23 in /usr/local/lib/python3.7/dist-packages (from rasa==1.10.3) (2.23.0)\n",
            "Requirement already satisfied: pymongo[srv,tls]<3.9.0,>=3.8.0 in /usr/local/lib/python3.7/dist-packages (from rasa==1.10.3) (3.8.0)\n",
            "Requirement already satisfied: async_generator<1.11,>=1.10 in /usr/local/lib/python3.7/dist-packages (from rasa==1.10.3) (1.10)\n",
            "Requirement already satisfied: rocketchat_API<1.4.0,>=0.6.31 in /usr/local/lib/python3.7/dist-packages (from rasa==1.10.3) (1.3.1)\n",
            "Requirement already satisfied: tensorflow-probability<0.10,>=0.7 in /usr/local/lib/python3.7/dist-packages (from rasa==1.10.3) (0.9.0)\n",
            "Requirement already satisfied: packaging<21.0,>=20.0 in /usr/local/lib/python3.7/dist-packages (from rasa==1.10.3) (20.9)\n",
            "Requirement already satisfied: absl-py<0.10,>=0.9 in /usr/local/lib/python3.7/dist-packages (from rasa==1.10.3) (0.9.0)\n",
            "Requirement already satisfied: PyJWT<1.8,>=1.7 in /usr/local/lib/python3.7/dist-packages (from rasa==1.10.3) (1.7.1)\n",
            "Requirement already satisfied: redis<4.0,>=3.4 in /usr/local/lib/python3.7/dist-packages (from rasa==1.10.3) (3.5.3)\n",
            "Requirement already satisfied: colorclass<2.3,>=2.2 in /usr/local/lib/python3.7/dist-packages (from rasa==1.10.3) (2.2.2)\n",
            "Requirement already satisfied: prompt-toolkit<3.0,>=2.0 in /usr/local/lib/python3.7/dist-packages (from rasa==1.10.3) (2.0.10)\n",
            "Requirement already satisfied: mattermostwrapper<2.3,>=2.2 in /usr/local/lib/python3.7/dist-packages (from rasa==1.10.3) (2.2)\n",
            "Requirement already satisfied: ruamel.yaml<0.17,>=0.16 in /usr/local/lib/python3.7/dist-packages (from rasa==1.10.3) (0.16.13)\n",
            "Requirement already satisfied: attrs<19.4,>=19.3 in /usr/local/lib/python3.7/dist-packages (from rasa==1.10.3) (19.3.0)\n",
            "Requirement already satisfied: scikit-learn<0.23,>=0.22 in /usr/local/lib/python3.7/dist-packages (from rasa==1.10.3) (0.22.2.post1)\n",
            "Requirement already satisfied: jsonpickle<1.5,>=1.3 in /usr/local/lib/python3.7/dist-packages (from rasa==1.10.3) (1.4.2)\n",
            "Requirement already satisfied: matplotlib<3.3,>=3.1 in /usr/local/lib/python3.7/dist-packages (from rasa==1.10.3) (3.2.2)\n",
            "Requirement already satisfied: pytz<2020.0,>=2019.1 in /usr/local/lib/python3.7/dist-packages (from rasa==1.10.3) (2019.3)\n",
            "Requirement already satisfied: colorhash<1.1.0,>=1.0.2 in /usr/local/lib/python3.7/dist-packages (from rasa==1.10.3) (1.0.4)\n",
            "Requirement already satisfied: cloudpickle<1.4,>=1.2 in /usr/local/lib/python3.7/dist-packages (from rasa==1.10.3) (1.3.0)\n",
            "Requirement already satisfied: boto3<2.0,>=1.12 in /usr/local/lib/python3.7/dist-packages (from rasa==1.10.3) (1.23.10)\n",
            "Requirement already satisfied: sanic-cors<0.11.0,>=0.10.0b1 in /usr/local/lib/python3.7/dist-packages (from rasa==1.10.3) (0.10.0.post3)\n",
            "Requirement already satisfied: setuptools>=41.0.0 in /usr/local/lib/python3.7/dist-packages (from rasa==1.10.3) (57.4.0)\n",
            "Requirement already satisfied: slackclient<3.0.0,>=2.0.0 in /usr/local/lib/python3.7/dist-packages (from rasa==1.10.3) (2.9.4)\n",
            "Requirement already satisfied: webexteamssdk<1.4.0,>=1.1.1 in /usr/local/lib/python3.7/dist-packages (from rasa==1.10.3) (1.3)\n",
            "Requirement already satisfied: twilio<6.27,>=6.26 in /usr/local/lib/python3.7/dist-packages (from rasa==1.10.3) (6.26.3)\n",
            "Requirement already satisfied: jsonschema<3.3,>=3.2 in /usr/local/lib/python3.7/dist-packages (from rasa==1.10.3) (3.2.0)\n",
            "Requirement already satisfied: terminaltables<3.2.0,>=3.1.0 in /usr/local/lib/python3.7/dist-packages (from rasa==1.10.3) (3.1.10)\n",
            "Requirement already satisfied: python-dateutil<2.9,>=2.8 in /usr/local/lib/python3.7/dist-packages (from rasa==1.10.3) (2.8.2)\n",
            "Requirement already satisfied: sklearn-crfsuite<0.4,>=0.3 in /usr/local/lib/python3.7/dist-packages (from rasa==1.10.3) (0.3.6)\n",
            "Requirement already satisfied: oauth2client==4.1.3 in /usr/local/lib/python3.7/dist-packages (from rasa==1.10.3) (4.1.3)\n",
            "Requirement already satisfied: tensorflow_hub<0.9,>=0.7 in /usr/local/lib/python3.7/dist-packages (from rasa==1.10.3) (0.8.0)\n",
            "Requirement already satisfied: questionary<1.6.0,>=1.5.1 in /usr/local/lib/python3.7/dist-packages (from rasa==1.10.3) (1.5.2)\n",
            "Requirement already satisfied: aiohttp<3.7,>=3.6 in /usr/local/lib/python3.7/dist-packages (from rasa==1.10.3) (3.6.3)\n",
            "Requirement already satisfied: python-socketio<4.6,>=4.4 in /usr/local/lib/python3.7/dist-packages (from rasa==1.10.3) (4.5.1)\n",
            "Requirement already satisfied: scipy<2.0.0,>=1.4.1 in /usr/local/lib/python3.7/dist-packages (from rasa==1.10.3) (1.4.1)\n",
            "Requirement already satisfied: tensorflow-addons<0.8.0,>=0.7.1 in /usr/local/lib/python3.7/dist-packages (from rasa==1.10.3) (0.7.1)\n",
            "Requirement already satisfied: numpy<2.0,>=1.16 in /usr/local/lib/python3.7/dist-packages (from rasa==1.10.3) (1.18.5)\n",
            "Requirement already satisfied: tensorflow-estimator==2.1.0 in /usr/local/lib/python3.7/dist-packages (from rasa==1.10.3) (2.1.0)\n",
            "Requirement already satisfied: python-engineio<3.13,>=3.11 in /usr/local/lib/python3.7/dist-packages (from rasa==1.10.3) (3.12.1)\n",
            "Requirement already satisfied: apscheduler<3.7,>=3.6 in /usr/local/lib/python3.7/dist-packages (from rasa==1.10.3) (3.6.3)\n",
            "Requirement already satisfied: ujson<3.0,>=1.35 in /usr/local/lib/python3.7/dist-packages (from rasa==1.10.3) (2.0.3)\n",
            "Requirement already satisfied: pyasn1-modules>=0.0.5 in /usr/local/lib/python3.7/dist-packages (from oauth2client==4.1.3->rasa==1.10.3) (0.2.8)\n",
            "Requirement already satisfied: pyasn1>=0.1.7 in /usr/local/lib/python3.7/dist-packages (from oauth2client==4.1.3->rasa==1.10.3) (0.4.8)\n",
            "Requirement already satisfied: httplib2>=0.9.1 in /usr/local/lib/python3.7/dist-packages (from oauth2client==4.1.3->rasa==1.10.3) (0.17.4)\n",
            "Requirement already satisfied: rsa>=3.1.4 in /usr/local/lib/python3.7/dist-packages (from oauth2client==4.1.3->rasa==1.10.3) (4.8)\n",
            "Requirement already satisfied: six>=1.6.1 in /usr/local/lib/python3.7/dist-packages (from oauth2client==4.1.3->rasa==1.10.3) (1.15.0)\n",
            "Requirement already satisfied: yarl<1.6.0,>=1.0 in /usr/local/lib/python3.7/dist-packages (from aiohttp<3.7,>=3.6->rasa==1.10.3) (1.5.1)\n",
            "Requirement already satisfied: async-timeout<4.0,>=3.0 in /usr/local/lib/python3.7/dist-packages (from aiohttp<3.7,>=3.6->rasa==1.10.3) (3.0.1)\n",
            "Requirement already satisfied: chardet<4.0,>=2.0 in /usr/local/lib/python3.7/dist-packages (from aiohttp<3.7,>=3.6->rasa==1.10.3) (3.0.4)\n",
            "Requirement already satisfied: tzlocal>=1.2 in /usr/local/lib/python3.7/dist-packages (from apscheduler<3.7,>=3.6->rasa==1.10.3) (1.5.1)\n",
            "Requirement already satisfied: s3transfer<0.6.0,>=0.5.0 in /usr/local/lib/python3.7/dist-packages (from boto3<2.0,>=1.12->rasa==1.10.3) (0.5.2)\n",
            "Requirement already satisfied: botocore<1.27.0,>=1.26.10 in /usr/local/lib/python3.7/dist-packages (from boto3<2.0,>=1.12->rasa==1.10.3) (1.26.10)\n",
            "Requirement already satisfied: jmespath<2.0.0,>=0.7.1 in /usr/local/lib/python3.7/dist-packages (from boto3<2.0,>=1.12->rasa==1.10.3) (1.0.0)\n",
            "Requirement already satisfied: urllib3<1.27,>=1.25.4 in /usr/local/lib/python3.7/dist-packages (from botocore<1.27.0,>=1.26.10->boto3<2.0,>=1.12->rasa==1.10.3) (1.25.11)\n",
            "Requirement already satisfied: humanfriendly>=4.7 in /usr/local/lib/python3.7/dist-packages (from coloredlogs<11.0,>=10.0->rasa==1.10.3) (10.0)\n",
            "Requirement already satisfied: greenlet>=0.4.14 in /usr/local/lib/python3.7/dist-packages (from gevent<1.6,>=1.4->rasa==1.10.3) (1.1.2)\n",
            "Requirement already satisfied: importlib-metadata in /usr/local/lib/python3.7/dist-packages (from jsonpickle<1.5,>=1.3->rasa==1.10.3) (4.11.3)\n",
            "Requirement already satisfied: pyrsistent>=0.14.0 in /usr/local/lib/python3.7/dist-packages (from jsonschema<3.3,>=3.2->rasa==1.10.3) (0.18.1)\n",
            "Requirement already satisfied: kiwisolver>=1.0.1 in /usr/local/lib/python3.7/dist-packages (from matplotlib<3.3,>=3.1->rasa==1.10.3) (1.4.2)\n",
            "Requirement already satisfied: cycler>=0.10 in /usr/local/lib/python3.7/dist-packages (from matplotlib<3.3,>=3.1->rasa==1.10.3) (0.11.0)\n",
            "Requirement already satisfied: pyparsing!=2.0.4,!=2.1.2,!=2.1.6,>=2.0.1 in /usr/local/lib/python3.7/dist-packages (from matplotlib<3.3,>=3.1->rasa==1.10.3) (3.0.9)\n",
            "Requirement already satisfied: typing-extensions in /usr/local/lib/python3.7/dist-packages (from kiwisolver>=1.0.1->matplotlib<3.3,>=3.1->rasa==1.10.3) (4.2.0)\n",
            "Requirement already satisfied: decorator>=4.3.0 in /usr/local/lib/python3.7/dist-packages (from networkx<2.5.0,>=2.4.0->rasa==1.10.3) (4.4.2)\n",
            "Requirement already satisfied: wcwidth in /usr/local/lib/python3.7/dist-packages (from prompt-toolkit<3.0,>=2.0->rasa==1.10.3) (0.2.5)\n",
            "Requirement already satisfied: PyYAML>=3.11 in /usr/local/lib/python3.7/dist-packages (from pykwalify<1.8.0,>=1.7.0->rasa==1.10.3) (3.13)\n",
            "Requirement already satisfied: docopt>=0.6.2 in /usr/local/lib/python3.7/dist-packages (from pykwalify<1.8.0,>=1.7.0->rasa==1.10.3) (0.6.2)\n",
            "Requirement already satisfied: dnspython<2.0.0,>=1.13.0 in /usr/local/lib/python3.7/dist-packages (from pymongo[srv,tls]<3.9.0,>=3.8.0->rasa==1.10.3) (1.16.0)\n",
            "Requirement already satisfied: cryptography in /usr/local/lib/python3.7/dist-packages (from python-telegram-bot<13.0,>=11.1->rasa==1.10.3) (37.0.2)\n",
            "Requirement already satisfied: certifi in /usr/local/lib/python3.7/dist-packages (from python-telegram-bot<13.0,>=11.1->rasa==1.10.3) (2022.5.18.1)\n",
            "Requirement already satisfied: tornado>=5.1 in /usr/local/lib/python3.7/dist-packages (from python-telegram-bot<13.0,>=11.1->rasa==1.10.3) (5.1.1)\n",
            "Requirement already satisfied: idna<3,>=2.5 in /usr/local/lib/python3.7/dist-packages (from requests<3.0,>=2.23->rasa==1.10.3) (2.10)\n",
            "Requirement already satisfied: ruamel.yaml.clib>=0.1.2 in /usr/local/lib/python3.7/dist-packages (from ruamel.yaml<0.17,>=0.16->rasa==1.10.3) (0.2.6)\n",
            "Requirement already satisfied: httpx==0.9.3 in /usr/local/lib/python3.7/dist-packages (from sanic<20.0.0,>=19.12.2->rasa==1.10.3) (0.9.3)\n",
            "Requirement already satisfied: uvloop>=0.5.3 in /usr/local/lib/python3.7/dist-packages (from sanic<20.0.0,>=19.12.2->rasa==1.10.3) (0.16.0)\n",
            "Requirement already satisfied: httptools>=0.0.10 in /usr/local/lib/python3.7/dist-packages (from sanic<20.0.0,>=19.12.2->rasa==1.10.3) (0.4.0)\n",
            "Requirement already satisfied: websockets<9.0,>=7.0 in /usr/local/lib/python3.7/dist-packages (from sanic<20.0.0,>=19.12.2->rasa==1.10.3) (8.1)\n",
            "Requirement already satisfied: aiofiles>=0.3.0 in /usr/local/lib/python3.7/dist-packages (from sanic<20.0.0,>=19.12.2->rasa==1.10.3) (0.8.0)\n",
            "Requirement already satisfied: h11==0.8.* in /usr/local/lib/python3.7/dist-packages (from httpx==0.9.3->sanic<20.0.0,>=19.12.2->rasa==1.10.3) (0.8.1)\n",
            "Requirement already satisfied: h2==3.* in /usr/local/lib/python3.7/dist-packages (from httpx==0.9.3->sanic<20.0.0,>=19.12.2->rasa==1.10.3) (3.2.0)\n",
            "Requirement already satisfied: rfc3986<2,>=1.3 in /usr/local/lib/python3.7/dist-packages (from httpx==0.9.3->sanic<20.0.0,>=19.12.2->rasa==1.10.3) (1.5.0)\n",
            "Requirement already satisfied: sniffio==1.* in /usr/local/lib/python3.7/dist-packages (from httpx==0.9.3->sanic<20.0.0,>=19.12.2->rasa==1.10.3) (1.2.0)\n",
            "Requirement already satisfied: hstspreload in /usr/local/lib/python3.7/dist-packages (from httpx==0.9.3->sanic<20.0.0,>=19.12.2->rasa==1.10.3) (2021.12.1)\n",
            "Requirement already satisfied: hpack<4,>=3.0 in /usr/local/lib/python3.7/dist-packages (from h2==3.*->httpx==0.9.3->sanic<20.0.0,>=19.12.2->rasa==1.10.3) (3.0.0)\n",
            "Requirement already satisfied: hyperframe<6,>=5.2.0 in /usr/local/lib/python3.7/dist-packages (from h2==3.*->httpx==0.9.3->sanic<20.0.0,>=19.12.2->rasa==1.10.3) (5.2.0)\n",
            "Requirement already satisfied: sanic-plugins-framework>=0.9.0 in /usr/local/lib/python3.7/dist-packages (from sanic-cors<0.11.0,>=0.10.0b1->rasa==1.10.3) (0.9.5)\n",
            "Requirement already satisfied: joblib>=0.11 in /usr/local/lib/python3.7/dist-packages (from scikit-learn<0.23,>=0.22->rasa==1.10.3) (1.1.0)\n",
            "Requirement already satisfied: tabulate in /usr/local/lib/python3.7/dist-packages (from sklearn-crfsuite<0.4,>=0.3->rasa==1.10.3) (0.8.9)\n",
            "Requirement already satisfied: python-crfsuite>=0.8.3 in /usr/local/lib/python3.7/dist-packages (from sklearn-crfsuite<0.4,>=0.3->rasa==1.10.3) (0.9.8)\n",
            "Requirement already satisfied: astor>=0.6.0 in /usr/local/lib/python3.7/dist-packages (from tensorflow<2.2,>=2.1->rasa==1.10.3) (0.8.1)\n",
            "Requirement already satisfied: opt-einsum>=2.3.2 in /usr/local/lib/python3.7/dist-packages (from tensorflow<2.2,>=2.1->rasa==1.10.3) (3.3.0)\n",
            "Requirement already satisfied: wrapt>=1.11.1 in /usr/local/lib/python3.7/dist-packages (from tensorflow<2.2,>=2.1->rasa==1.10.3) (1.14.1)\n",
            "Requirement already satisfied: keras-preprocessing==1.1.0 in /usr/local/lib/python3.7/dist-packages (from tensorflow<2.2,>=2.1->rasa==1.10.3) (1.1.0)\n",
            "Requirement already satisfied: tensorboard<2.2.0,>=2.1.0 in /usr/local/lib/python3.7/dist-packages (from tensorflow<2.2,>=2.1->rasa==1.10.3) (2.1.1)\n",
            "Requirement already satisfied: termcolor>=1.1.0 in /usr/local/lib/python3.7/dist-packages (from tensorflow<2.2,>=2.1->rasa==1.10.3) (1.1.0)\n",
            "Requirement already satisfied: google-pasta>=0.1.6 in /usr/local/lib/python3.7/dist-packages (from tensorflow<2.2,>=2.1->rasa==1.10.3) (0.2.0)\n",
            "Requirement already satisfied: gast==0.2.2 in /usr/local/lib/python3.7/dist-packages (from tensorflow<2.2,>=2.1->rasa==1.10.3) (0.2.2)\n",
            "Requirement already satisfied: wheel>=0.26 in /usr/local/lib/python3.7/dist-packages (from tensorflow<2.2,>=2.1->rasa==1.10.3) (0.37.1)\n",
            "Requirement already satisfied: h5py<=2.10.0 in /usr/local/lib/python3.7/dist-packages (from tensorflow<2.2,>=2.1->rasa==1.10.3) (2.10.0)\n",
            "Requirement already satisfied: grpcio>=1.8.6 in /usr/local/lib/python3.7/dist-packages (from tensorflow<2.2,>=2.1->rasa==1.10.3) (1.46.1)\n",
            "Requirement already satisfied: protobuf>=3.8.0 in /usr/local/lib/python3.7/dist-packages (from tensorflow<2.2,>=2.1->rasa==1.10.3) (3.17.3)\n",
            "Requirement already satisfied: keras-applications>=1.0.8 in /usr/local/lib/python3.7/dist-packages (from tensorflow<2.2,>=2.1->rasa==1.10.3) (1.0.8)\n",
            "Requirement already satisfied: google-auth<2,>=1.6.3 in /usr/local/lib/python3.7/dist-packages (from tensorboard<2.2.0,>=2.1.0->tensorflow<2.2,>=2.1->rasa==1.10.3) (1.35.0)\n",
            "Requirement already satisfied: google-auth-oauthlib<0.5,>=0.4.1 in /usr/local/lib/python3.7/dist-packages (from tensorboard<2.2.0,>=2.1.0->tensorflow<2.2,>=2.1->rasa==1.10.3) (0.4.6)\n",
            "Requirement already satisfied: markdown>=2.6.8 in /usr/local/lib/python3.7/dist-packages (from tensorboard<2.2.0,>=2.1.0->tensorflow<2.2,>=2.1->rasa==1.10.3) (3.3.7)\n",
            "Requirement already satisfied: werkzeug>=0.11.15 in /usr/local/lib/python3.7/dist-packages (from tensorboard<2.2.0,>=2.1.0->tensorflow<2.2,>=2.1->rasa==1.10.3) (1.0.1)\n",
            "Requirement already satisfied: cachetools<5.0,>=2.0.0 in /usr/local/lib/python3.7/dist-packages (from google-auth<2,>=1.6.3->tensorboard<2.2.0,>=2.1.0->tensorflow<2.2,>=2.1->rasa==1.10.3) (4.2.4)\n",
            "Requirement already satisfied: requests-oauthlib>=0.7.0 in /usr/local/lib/python3.7/dist-packages (from google-auth-oauthlib<0.5,>=0.4.1->tensorboard<2.2.0,>=2.1.0->tensorflow<2.2,>=2.1->rasa==1.10.3) (1.3.1)\n",
            "Requirement already satisfied: zipp>=0.5 in /usr/local/lib/python3.7/dist-packages (from importlib-metadata->jsonpickle<1.5,>=1.3->rasa==1.10.3) (3.8.0)\n",
            "Requirement already satisfied: oauthlib>=3.0.0 in /usr/local/lib/python3.7/dist-packages (from requests-oauthlib>=0.7.0->google-auth-oauthlib<0.5,>=0.4.1->tensorboard<2.2.0,>=2.1.0->tensorflow<2.2,>=2.1->rasa==1.10.3) (3.2.0)\n",
            "Requirement already satisfied: pysocks in /usr/local/lib/python3.7/dist-packages (from twilio<6.27,>=6.26->rasa==1.10.3) (1.7.1)\n",
            "Requirement already satisfied: requests-toolbelt in /usr/local/lib/python3.7/dist-packages (from webexteamssdk<1.4.0,>=1.1.1->rasa==1.10.3) (0.9.1)\n",
            "Requirement already satisfied: future in /usr/local/lib/python3.7/dist-packages (from webexteamssdk<1.4.0,>=1.1.1->rasa==1.10.3) (0.16.0)\n",
            "Requirement already satisfied: cffi>=1.12 in /usr/local/lib/python3.7/dist-packages (from cryptography->python-telegram-bot<13.0,>=11.1->rasa==1.10.3) (1.15.0)\n",
            "Requirement already satisfied: pycparser in /usr/local/lib/python3.7/dist-packages (from cffi>=1.12->cryptography->python-telegram-bot<13.0,>=11.1->rasa==1.10.3) (2.21)\n"
          ]
        }
      ]
    },
    {
      "cell_type": "code",
      "source": [
        "!python -m spacy download en"
      ],
      "metadata": {
        "colab": {
          "base_uri": "https://localhost:8080/"
        },
        "id": "JQr0bp14Nqzw",
        "outputId": "515bb9a9-9769-47a1-f1ce-6b5519f46d8b"
      },
      "execution_count": 4,
      "outputs": [
        {
          "output_type": "stream",
          "name": "stdout",
          "text": [
            "Looking in indexes: https://pypi.org/simple, https://us-python.pkg.dev/colab-wheels/public/simple/\n",
            "Collecting en_core_web_sm==2.2.5\n",
            "  Downloading https://github.com/explosion/spacy-models/releases/download/en_core_web_sm-2.2.5/en_core_web_sm-2.2.5.tar.gz (12.0 MB)\n",
            "\u001b[K     |████████████████████████████████| 12.0 MB 26.4 MB/s \n",
            "\u001b[?25hRequirement already satisfied: spacy>=2.2.2 in /usr/local/lib/python3.7/dist-packages (from en_core_web_sm==2.2.5) (2.2.4)\n",
            "Requirement already satisfied: tqdm<5.0.0,>=4.38.0 in /usr/local/lib/python3.7/dist-packages (from spacy>=2.2.2->en_core_web_sm==2.2.5) (4.45.0)\n",
            "Requirement already satisfied: wasabi<1.1.0,>=0.4.0 in /usr/local/lib/python3.7/dist-packages (from spacy>=2.2.2->en_core_web_sm==2.2.5) (0.9.1)\n",
            "Requirement already satisfied: plac<1.2.0,>=0.9.6 in /usr/local/lib/python3.7/dist-packages (from spacy>=2.2.2->en_core_web_sm==2.2.5) (1.1.3)\n",
            "Requirement already satisfied: murmurhash<1.1.0,>=0.28.0 in /usr/local/lib/python3.7/dist-packages (from spacy>=2.2.2->en_core_web_sm==2.2.5) (1.0.7)\n",
            "Requirement already satisfied: numpy>=1.15.0 in /usr/local/lib/python3.7/dist-packages (from spacy>=2.2.2->en_core_web_sm==2.2.5) (1.18.5)\n",
            "Requirement already satisfied: catalogue<1.1.0,>=0.0.7 in /usr/local/lib/python3.7/dist-packages (from spacy>=2.2.2->en_core_web_sm==2.2.5) (1.0.0)\n",
            "Requirement already satisfied: preshed<3.1.0,>=3.0.2 in /usr/local/lib/python3.7/dist-packages (from spacy>=2.2.2->en_core_web_sm==2.2.5) (3.0.6)\n",
            "Requirement already satisfied: thinc==7.4.0 in /usr/local/lib/python3.7/dist-packages (from spacy>=2.2.2->en_core_web_sm==2.2.5) (7.4.0)\n",
            "Requirement already satisfied: cymem<2.1.0,>=2.0.2 in /usr/local/lib/python3.7/dist-packages (from spacy>=2.2.2->en_core_web_sm==2.2.5) (2.0.6)\n",
            "Requirement already satisfied: setuptools in /usr/local/lib/python3.7/dist-packages (from spacy>=2.2.2->en_core_web_sm==2.2.5) (57.4.0)\n",
            "Requirement already satisfied: blis<0.5.0,>=0.4.0 in /usr/local/lib/python3.7/dist-packages (from spacy>=2.2.2->en_core_web_sm==2.2.5) (0.4.1)\n",
            "Requirement already satisfied: srsly<1.1.0,>=1.0.2 in /usr/local/lib/python3.7/dist-packages (from spacy>=2.2.2->en_core_web_sm==2.2.5) (1.0.5)\n",
            "Requirement already satisfied: requests<3.0.0,>=2.13.0 in /usr/local/lib/python3.7/dist-packages (from spacy>=2.2.2->en_core_web_sm==2.2.5) (2.23.0)\n",
            "Requirement already satisfied: importlib-metadata>=0.20 in /usr/local/lib/python3.7/dist-packages (from catalogue<1.1.0,>=0.0.7->spacy>=2.2.2->en_core_web_sm==2.2.5) (4.11.3)\n",
            "Requirement already satisfied: typing-extensions>=3.6.4 in /usr/local/lib/python3.7/dist-packages (from importlib-metadata>=0.20->catalogue<1.1.0,>=0.0.7->spacy>=2.2.2->en_core_web_sm==2.2.5) (4.2.0)\n",
            "Requirement already satisfied: zipp>=0.5 in /usr/local/lib/python3.7/dist-packages (from importlib-metadata>=0.20->catalogue<1.1.0,>=0.0.7->spacy>=2.2.2->en_core_web_sm==2.2.5) (3.8.0)\n",
            "Requirement already satisfied: idna<3,>=2.5 in /usr/local/lib/python3.7/dist-packages (from requests<3.0.0,>=2.13.0->spacy>=2.2.2->en_core_web_sm==2.2.5) (2.10)\n",
            "Requirement already satisfied: certifi>=2017.4.17 in /usr/local/lib/python3.7/dist-packages (from requests<3.0.0,>=2.13.0->spacy>=2.2.2->en_core_web_sm==2.2.5) (2022.5.18.1)\n",
            "Requirement already satisfied: chardet<4,>=3.0.2 in /usr/local/lib/python3.7/dist-packages (from requests<3.0.0,>=2.13.0->spacy>=2.2.2->en_core_web_sm==2.2.5) (3.0.4)\n",
            "Requirement already satisfied: urllib3!=1.25.0,!=1.25.1,<1.26,>=1.21.1 in /usr/local/lib/python3.7/dist-packages (from requests<3.0.0,>=2.13.0->spacy>=2.2.2->en_core_web_sm==2.2.5) (1.25.11)\n",
            "\u001b[38;5;2m✔ Download and installation successful\u001b[0m\n",
            "You can now load the model via spacy.load('en_core_web_sm')\n",
            "\u001b[38;5;2m✔ Linking successful\u001b[0m\n",
            "/usr/local/lib/python3.7/dist-packages/en_core_web_sm -->\n",
            "/usr/local/lib/python3.7/dist-packages/spacy/data/en\n",
            "You can now load the model via spacy.load('en')\n"
          ]
        }
      ]
    },
    {
      "cell_type": "code",
      "source": [
        "!pip install nest_asyncio==1.3.3"
      ],
      "metadata": {
        "colab": {
          "base_uri": "https://localhost:8080/"
        },
        "id": "3B3MYKXpOSWG",
        "outputId": "5bfeffdf-8fc9-43b8-cdfa-cdd85e2d293b"
      },
      "execution_count": 5,
      "outputs": [
        {
          "output_type": "stream",
          "name": "stdout",
          "text": [
            "Looking in indexes: https://pypi.org/simple, https://us-python.pkg.dev/colab-wheels/public/simple/\n",
            "Requirement already satisfied: nest_asyncio==1.3.3 in /usr/local/lib/python3.7/dist-packages (1.3.3)\n"
          ]
        }
      ]
    },
    {
      "cell_type": "code",
      "source": [
        "import os\n",
        "import rasa \n",
        "import nest_asyncio\n",
        "nest_asyncio.apply()\n",
        "print('event loop ready')"
      ],
      "metadata": {
        "colab": {
          "base_uri": "https://localhost:8080/"
        },
        "id": "Sxd_CAO3Oboo",
        "outputId": "3dba325e-2646-40a2-e838-30a5e561b43b"
      },
      "execution_count": 6,
      "outputs": [
        {
          "output_type": "stream",
          "name": "stdout",
          "text": [
            "event loop ready\n"
          ]
        }
      ]
    },
    {
      "cell_type": "code",
      "source": [
        "from rasa.cli.scaffold import create_initial_project"
      ],
      "metadata": {
        "id": "YRXVf2ewOska"
      },
      "execution_count": 7,
      "outputs": []
    },
    {
      "cell_type": "code",
      "source": [
        "project='Internship_Project'\n",
        "create_initial_project(project)"
      ],
      "metadata": {
        "id": "lOEWSaNeOvcE"
      },
      "execution_count": 8,
      "outputs": []
    },
    {
      "cell_type": "code",
      "source": [
        "ls"
      ],
      "metadata": {
        "colab": {
          "base_uri": "https://localhost:8080/"
        },
        "id": "bOfmd3opOxbf",
        "outputId": "a5fe2916-884e-4ab8-c5b9-fb35f2ffe10f"
      },
      "execution_count": 9,
      "outputs": [
        {
          "output_type": "stream",
          "name": "stdout",
          "text": [
            "\u001b[0m\u001b[01;34mInternship_Project\u001b[0m/  \u001b[01;34msample_data\u001b[0m/\n"
          ]
        }
      ]
    },
    {
      "cell_type": "code",
      "source": [
        "os.chdir(project)\n",
        "print(os.listdir(\".\"))"
      ],
      "metadata": {
        "colab": {
          "base_uri": "https://localhost:8080/"
        },
        "id": "J-hIKXEdOzsw",
        "outputId": "922c77f5-c00e-46cd-c2ee-e1941f063aa0"
      },
      "execution_count": 10,
      "outputs": [
        {
          "output_type": "stream",
          "name": "stdout",
          "text": [
            "['actions.py', 'endpoints.yml', 'domain.yml', 'config.yml', '__pycache__', 'data', '__init__.py', 'tests', 'credentials.yml']\n"
          ]
        }
      ]
    },
    {
      "cell_type": "code",
      "source": [
        "config='config.yml'\n",
        "traning_files='data/'\n",
        "domain='domain.yml'\n",
        "output='models/'\n",
        "print(config,traning_files,domain,output)"
      ],
      "metadata": {
        "colab": {
          "base_uri": "https://localhost:8080/"
        },
        "id": "tCGzyiWlPCBK",
        "outputId": "8b02270a-8ad0-40d7-d1d6-47973eacb603"
      },
      "execution_count": 11,
      "outputs": [
        {
          "output_type": "stream",
          "name": "stdout",
          "text": [
            "config.yml data/ domain.yml models/\n"
          ]
        }
      ]
    },
    {
      "cell_type": "code",
      "source": [
        "%%writefile data/nlu.md\n",
        "\n",
        "##intent:PM-KUSUM-Scheme\n",
        "-What are the different kind of systems supported under PM-KUSUM Scheme?\n",
        "-PM-KUSUM\n",
        "-pm kusum scheme\n",
        "##intent:eligibility\n",
        "-Who is eligible under Component-A of PM-KUSUM Scheme?\n",
        "-what is the elegibility criteria?\n",
        "-eligibility\n",
        "##intent:information\n",
        "-Where can I get more information about the Scheme?\n",
        "-information\n",
        "-details\n",
        "## intent:greet\n",
        "- hey\n",
        "- hello\n",
        "- hi\n",
        "- good morning\n",
        "- good evening\n",
        "- hey there\n",
        "\n",
        "## intent:goodbye\n",
        "- bye\n",
        "- goodbye\n",
        "- see you around\n",
        "- see you later\n",
        "\n",
        "## intent:affirm\n",
        "- yes\n",
        "- indeed\n",
        "- of course\n",
        "- that sounds good\n",
        "- correct\n",
        "## intent:deny\n",
        "- no\n",
        "- never\n",
        "- I don't think so\n",
        "- don't like that\n",
        "- no way\n",
        "- not really\n",
        "\n",
        "## intent:mood_great\n",
        "- perfect\n",
        "- very good\n",
        "- great\n",
        "- amazing\n",
        "- wonderful\n",
        "- I am feeling very good\n",
        "- I am great\n",
        "- I'm good\n",
        "\n",
        "## intent:mood_unhappy\n",
        "- sad\n",
        "- very sad\n",
        "- unhappy\n",
        "- bad\n",
        "- very bad\n",
        "- awful\n",
        "- terrible\n",
        "- not very good\n",
        "- extremely sad\n",
        "- so sad\n",
        "\n",
        "## intent:bot_challenge\n",
        "- are you a bot?\n",
        "- are you a human?\n",
        "- am I talking to a bot?\n",
        "- am I talking to a human?\n"
      ],
      "metadata": {
        "colab": {
          "base_uri": "https://localhost:8080/"
        },
        "id": "l7ZlblO1PHBy",
        "outputId": "e432ed87-09f1-4582-deda-e78f97f0df3f"
      },
      "execution_count": 12,
      "outputs": [
        {
          "output_type": "stream",
          "name": "stdout",
          "text": [
            "Overwriting data/nlu.md\n"
          ]
        }
      ]
    },
    {
      "cell_type": "code",
      "source": [
        "%%writefile domain.yml \n",
        "\n",
        "intents:\n",
        "  - PM-KUSUM-Scheme\n",
        "  - eligibility\n",
        "  - information\n",
        "  - greet\n",
        "  - goodbye\n",
        "  - affirm\n",
        "  - deny\n",
        "  - mood_great\n",
        "  - mood_unhappy\n",
        "  - bot_challenge\n",
        "\n",
        "responses:\n",
        "  utter_PM-KUSUM-Scheme:\n",
        "  - text:\"PM-KUSUM Scheme supports three different kind of installations, known as three components of the Scheme as given below\n",
        "    Component-A Setting up of decentralized ground/ stilt mounted grid connected solar or other renewable energy based power plants up to 2 MW capacity\n",
        "    Component-B Installation of stand-alone solar agriculture pumps of capacity up to 7.5 HP\n",
        "    Component-C Solarisation of existing grid connected agriculture pumps of capacity up to 7.5 HP\"\n",
        "  utter_eligibility:\n",
        "  - text:\"Individual farmers/ group of farmers/ cooperatives/panchayats/ Farmer Producer Organisations (FPO)/Water User associations (WUA). Land on which the project is proposed to be installed should be within 5 km from the nearest electricity sub-station.\"\n",
        "  utter_information:\n",
        "  - text:\"For more information, please visit https://mnre.gov.in/solar/schemes/ or call at toll free number 1800-180-3333.\"\n",
        "  utter_greet:\n",
        "  - text: \"Hey! How are you?\"\n",
        "\n",
        "  utter_cheer_up:\n",
        "  - text: \"Here is something to cheer you up:\"\n",
        "    image: \"https://i.imgur.com/nGF1K8f.jpg\"\n",
        "\n",
        "  utter_did_that_help:\n",
        "  - text: \"Did that help you?\"\n",
        "\n",
        "  utter_happy:\n",
        "  - text: \"Great, carry on!\"\n",
        "\n",
        "  utter_goodbye:\n",
        "  - text: \"Bye\"\n",
        "\n",
        "  utter_iamabot:\n",
        "  - text: \"I am a bot, powered by Rasa.\"\n",
        "\n",
        "session_config:\n",
        "  session_expiration_time: 60\n",
        "  carry_over_slots_to_new_session: true"
      ],
      "metadata": {
        "colab": {
          "base_uri": "https://localhost:8080/"
        },
        "id": "zUuPikO1Pgwl",
        "outputId": "c6ab587a-76d7-424e-f3c0-c2e3413b475e"
      },
      "execution_count": 13,
      "outputs": [
        {
          "output_type": "stream",
          "name": "stdout",
          "text": [
            "Overwriting domain.yml\n"
          ]
        }
      ]
    },
    {
      "cell_type": "code",
      "source": [
        "%%writefile data/stories.md\n",
        "\n",
        "## PM-KUSUM-Scheme\n",
        "* greet\n",
        "  - utter_greet\n",
        "* PM-KUSUM-Scheme\n",
        "  - utter_PM-KUSUM-Scheme\n",
        "\n",
        "## eligibility\n",
        "* greet\n",
        "  - utter_greet\n",
        "* eligibility\n",
        "  - utter_eligibility\n",
        "\n",
        "## information\n",
        "* greet\n",
        "  - utter_greet\n",
        "* information\n",
        "  - utter_information  \n",
        "## happy path\n",
        "* greet\n",
        "  - utter_greet\n",
        "* mood_great\n",
        "  - utter_happy\n",
        "\n",
        "## sad path 1\n",
        "* greet\n",
        "  - utter_greet\n",
        "* mood_unhappy\n",
        "  - utter_cheer_up\n",
        "  - utter_did_that_help\n",
        "  * affirm\n",
        "  - utter_happy\n",
        "\n",
        "## sad path 2\n",
        "* greet\n",
        "  - utter_greet\n",
        "* mood_unhappy\n",
        "  - utter_cheer_up\n",
        "  - utter_did_that_help\n",
        "* deny\n",
        "  - utter_goodbye\n",
        "\n",
        "## say goodbye\n",
        "* goodbye\n",
        "  - utter_goodbye\n",
        "\n",
        "## bot challenge\n",
        "* bot_challenge\n",
        "  - utter_iamabot"
      ],
      "metadata": {
        "colab": {
          "base_uri": "https://localhost:8080/"
        },
        "id": "S2zPA1CAQAV9",
        "outputId": "e8210e07-d3b0-4cea-deb4-0c5a4a33405b"
      },
      "execution_count": 14,
      "outputs": [
        {
          "output_type": "stream",
          "name": "stdout",
          "text": [
            "Overwriting data/stories.md\n"
          ]
        }
      ]
    },
    {
      "cell_type": "code",
      "source": [
        "model_path=rasa.train(domain,config,[traning_files],output)\n",
        "print(model_path)"
      ],
      "metadata": {
        "colab": {
          "base_uri": "https://localhost:8080/"
        },
        "id": "qaUu22V2QIau",
        "outputId": "6050cac4-a8ab-4c03-c2c5-8f6cafade930"
      },
      "execution_count": 15,
      "outputs": [
        {
          "output_type": "stream",
          "name": "stderr",
          "text": [
            "\u001b[93m/usr/local/lib/python3.7/dist-packages/rasa/core/domain.py:137: FutureWarning: Templates should not be strings anymore. Utterance template 'utter_PM-KUSUM-Scheme' should contain either a '- text: ' or a '- custom: ' attribute to be a proper template.\n",
            "  utter_templates = cls.collect_templates(data.get(\"responses\", {}))\n",
            "\u001b[0m\u001b[93m/usr/local/lib/python3.7/dist-packages/rasa/core/domain.py:137: FutureWarning: Templates should not be strings anymore. Utterance template 'utter_eligibility' should contain either a '- text: ' or a '- custom: ' attribute to be a proper template.\n",
            "  utter_templates = cls.collect_templates(data.get(\"responses\", {}))\n",
            "\u001b[0m\u001b[93m/usr/local/lib/python3.7/dist-packages/rasa/core/domain.py:137: FutureWarning: Templates should not be strings anymore. Utterance template 'utter_information' should contain either a '- text: ' or a '- custom: ' attribute to be a proper template.\n",
            "  utter_templates = cls.collect_templates(data.get(\"responses\", {}))\n",
            "\u001b[0m"
          ]
        },
        {
          "output_type": "stream",
          "name": "stdout",
          "text": [
            "\u001b[94mTraining Core model...\u001b[0m\n"
          ]
        },
        {
          "output_type": "stream",
          "name": "stderr",
          "text": [
            "\u001b[93m/usr/local/lib/python3.7/dist-packages/rasa/core/domain.py:137: FutureWarning: Templates should not be strings anymore. Utterance template 'utter_PM-KUSUM-Scheme' should contain either a '- text: ' or a '- custom: ' attribute to be a proper template.\n",
            "  utter_templates = cls.collect_templates(data.get(\"responses\", {}))\n",
            "\u001b[0m\u001b[93m/usr/local/lib/python3.7/dist-packages/rasa/core/domain.py:137: FutureWarning: Templates should not be strings anymore. Utterance template 'utter_eligibility' should contain either a '- text: ' or a '- custom: ' attribute to be a proper template.\n",
            "  utter_templates = cls.collect_templates(data.get(\"responses\", {}))\n",
            "\u001b[0m\u001b[93m/usr/local/lib/python3.7/dist-packages/rasa/core/domain.py:137: FutureWarning: Templates should not be strings anymore. Utterance template 'utter_information' should contain either a '- text: ' or a '- custom: ' attribute to be a proper template.\n",
            "  utter_templates = cls.collect_templates(data.get(\"responses\", {}))\n",
            "Processed Story Blocks: 100%|██████████| 8/8 [00:00<00:00, 417.26it/s, # trackers=1]\n",
            "Processed Story Blocks: 100%|██████████| 8/8 [00:00<00:00, 295.40it/s, # trackers=8]\n",
            "Processed Story Blocks: 100%|██████████| 8/8 [00:00<00:00, 81.29it/s, # trackers=43]\n",
            "Processed Story Blocks: 100%|██████████| 8/8 [00:00<00:00, 93.15it/s, # trackers=30]\n",
            "Processed trackers: 100%|██████████| 8/8 [00:00<00:00, 114.92it/s, # actions=22]\n",
            "Processed actions: 22it [00:00, 685.92it/s, # examples=22]\n",
            "Processed trackers: 100%|██████████| 508/508 [00:12<00:00, 41.23it/s, # actions=238]\n",
            "Epochs: 100%|██████████| 100/100 [00:28<00:00,  3.57it/s, t_loss=0.090, loss=0.012, acc=1.000]\n"
          ]
        },
        {
          "output_type": "stream",
          "name": "stdout",
          "text": [
            "\u001b[94mCore model training completed.\u001b[0m\n",
            "\u001b[94mTraining NLU model...\u001b[0m\n"
          ]
        },
        {
          "output_type": "stream",
          "name": "stderr",
          "text": [
            "\u001b[93m/usr/local/lib/python3.7/dist-packages/rasa/utils/common.py:363: UserWarning: You specified 'DIET' to train entities, but no entities are present in the training data. Skip training of entities.\n",
            "Epochs: 100%|██████████| 100/100 [00:27<00:00,  3.58it/s, t_loss=1.780, i_loss=0.219, i_acc=1.000]\n"
          ]
        },
        {
          "output_type": "stream",
          "name": "stdout",
          "text": [
            "\u001b[94mNLU model training completed.\u001b[0m\n",
            "\u001b[92mYour Rasa model is trained and saved at '/content/Internship_Project/models/20220531-175537.tar.gz'.\u001b[0m\n",
            "models/20220531-175537.tar.gz\n"
          ]
        }
      ]
    },
    {
      "cell_type": "code",
      "source": [
        "from rasa.jupyter import chat\n",
        "endppoints='endpoints.yml'\n",
        "chat(model_path,endppoints)"
      ],
      "metadata": {
        "colab": {
          "base_uri": "https://localhost:8080/",
          "height": 1000
        },
        "id": "UdCAafAqQKzU",
        "outputId": "ed3f6724-07f6-4cf7-b81a-aa96f42e07a7"
      },
      "execution_count": 16,
      "outputs": [
        {
          "output_type": "stream",
          "name": "stdout",
          "text": [
            "Your bot is ready to talk! Type your messages here or send '/stop'.\n",
            "hii\n",
            "\u001b[92mHey! How are you?\u001b[0m\n",
            "fine\n",
            "\u001b[92mBye\u001b[0m\n",
            "hii\n",
            "\u001b[92mHey! How are you?\u001b[0m\n",
            "sad\n",
            "\u001b[92mHere is something to cheer you up:\u001b[0m\n"
          ]
        },
        {
          "output_type": "display_data",
          "data": {
            "text/html": [
              "<img src=\"https://i.imgur.com/nGF1K8f.jpg\"/>"
            ],
            "text/plain": [
              "<IPython.core.display.Image object>"
            ]
          },
          "metadata": {}
        },
        {
          "name": "stdout",
          "output_type": "stream",
          "text": [
            "\u001b[92mDid that help you?\u001b[0m\n",
            "information\n",
            "\u001b[92mtext:\"For more information, please visit https://mnre.gov.in/solar/schemes/ or call at toll free number 1800-180-3333.\"\u001b[0m\n",
            "bye\n",
            "\u001b[92mBye\u001b[0m\n",
            "/stop\n"
          ]
        }
      ]
    },
    {
      "cell_type": "code",
      "source": [
        ""
      ],
      "metadata": {
        "id": "QFmOAr1mQmFw"
      },
      "execution_count": null,
      "outputs": []
    }
  ]
}